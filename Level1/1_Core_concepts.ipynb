{
 "cells": [
  {
   "cell_type": "markdown",
   "metadata": {},
   "source": [
    "This is the first course in the pytorch learning footprints series. It will last for 4 weeks and will cover the core concepts of pytorch."
   ]
  },
  {
   "cell_type": "code",
   "execution_count": 2,
   "metadata": {},
   "outputs": [
    {
     "ename": "ImportError",
     "evalue": "dlopen(/Users/zyf/miniforge3/envs/torch-mps/lib/python3.9/site-packages/torch/_C.cpython-39-darwin.so, 0x0002): Library not loaded: @rpath/libtorch_cpu.dylib\n  Referenced from: <CEA0A8C8-A153-3FB9-831F-65F5E97493EE> /Users/zyf/miniforge3/envs/torch-mps/lib/python3.9/site-packages/torch/lib/libtorch_python.dylib\n  Reason: tried: '/Users/zyf/miniforge3/envs/torch-mps/lib/python3.9/site-packages/torch/lib/libtorch_cpu.dylib' (no such file), '/Users/zyf/miniforge3/envs/torch-mps/lib/python3.9/site-packages/torch/lib/../../../../libtorch_cpu.dylib' (no such file), '/Users/zyf/miniforge3/envs/torch-mps/lib/python3.9/site-packages/torch/lib/libtorch_cpu.dylib' (no such file), '/Users/zyf/miniforge3/envs/torch-mps/lib/python3.9/site-packages/torch/../../../libtorch_cpu.dylib' (no such file), '/Users/zyf/miniforge3/envs/torch-mps/lib/python3.9/site-packages/torch/lib/libtorch_cpu.dylib' (no such file), '/Users/zyf/miniforge3/envs/torch-mps/lib/python3.9/site-packages/torch/../../../libtorch_cpu.dylib' (no such file), '/Users/zyf/miniforge3/envs/torch-mps/bin/../lib/libtorch_cpu.dylib' (no such file), '/Users/zyf/miniforge3/envs/torch-mps/bin/../lib/libtorch_cpu.dylib' (no such file), '/usr/local/lib/libtorch_cpu.dylib' (no such file), '/usr/lib/libtorch_cpu.dylib' (no such file, not in dyld cache)",
     "output_type": "error",
     "traceback": [
      "\u001b[0;31m---------------------------------------------------------------------------\u001b[0m",
      "\u001b[0;31mImportError\u001b[0m                               Traceback (most recent call last)",
      "Cell \u001b[0;32mIn[2], line 2\u001b[0m\n\u001b[1;32m      1\u001b[0m \u001b[38;5;66;03m# 验证Metal支持\u001b[39;00m\n\u001b[0;32m----> 2\u001b[0m \u001b[38;5;28;01mimport\u001b[39;00m\u001b[38;5;250m \u001b[39m\u001b[38;5;21;01mtorch\u001b[39;00m\n\u001b[1;32m      3\u001b[0m \u001b[38;5;28mprint\u001b[39m(torch\u001b[38;5;241m.\u001b[39mbackends\u001b[38;5;241m.\u001b[39mmps\u001b[38;5;241m.\u001b[39mis_available())  \u001b[38;5;66;03m# 应返回True\u001b[39;00m\n\u001b[1;32m      4\u001b[0m \u001b[38;5;28mprint\u001b[39m(torch\u001b[38;5;241m.\u001b[39mdevice(\u001b[38;5;124m'\u001b[39m\u001b[38;5;124mmps\u001b[39m\u001b[38;5;124m'\u001b[39m))  \u001b[38;5;66;03m# 设备类型显示应为mps\u001b[39;00m\n",
      "File \u001b[0;32m~/miniforge3/envs/torch-mps/lib/python3.9/site-packages/torch/__init__.py:378\u001b[0m\n\u001b[1;32m    376\u001b[0m     \u001b[38;5;28;01mif\u001b[39;00m USE_GLOBAL_DEPS:\n\u001b[1;32m    377\u001b[0m         _load_global_deps()\n\u001b[0;32m--> 378\u001b[0m     \u001b[38;5;28;01mfrom\u001b[39;00m\u001b[38;5;250m \u001b[39m\u001b[38;5;21;01mtorch\u001b[39;00m\u001b[38;5;21;01m.\u001b[39;00m\u001b[38;5;21;01m_C\u001b[39;00m\u001b[38;5;250m \u001b[39m\u001b[38;5;28;01mimport\u001b[39;00m \u001b[38;5;241m*\u001b[39m  \u001b[38;5;66;03m# noqa: F403\u001b[39;00m\n\u001b[1;32m    381\u001b[0m \u001b[38;5;28;01mclass\u001b[39;00m\u001b[38;5;250m \u001b[39m\u001b[38;5;21;01mSymInt\u001b[39;00m:\n\u001b[1;32m    382\u001b[0m \u001b[38;5;250m    \u001b[39m\u001b[38;5;124;03m\"\"\"\u001b[39;00m\n\u001b[1;32m    383\u001b[0m \u001b[38;5;124;03m    Like an int (including magic methods), but redirects all operations on the\u001b[39;00m\n\u001b[1;32m    384\u001b[0m \u001b[38;5;124;03m    wrapped node. This is used in particular to symbolically record operations\u001b[39;00m\n\u001b[1;32m    385\u001b[0m \u001b[38;5;124;03m    in the symbolic shape workflow.\u001b[39;00m\n\u001b[1;32m    386\u001b[0m \u001b[38;5;124;03m    \"\"\"\u001b[39;00m\n",
      "\u001b[0;31mImportError\u001b[0m: dlopen(/Users/zyf/miniforge3/envs/torch-mps/lib/python3.9/site-packages/torch/_C.cpython-39-darwin.so, 0x0002): Library not loaded: @rpath/libtorch_cpu.dylib\n  Referenced from: <CEA0A8C8-A153-3FB9-831F-65F5E97493EE> /Users/zyf/miniforge3/envs/torch-mps/lib/python3.9/site-packages/torch/lib/libtorch_python.dylib\n  Reason: tried: '/Users/zyf/miniforge3/envs/torch-mps/lib/python3.9/site-packages/torch/lib/libtorch_cpu.dylib' (no such file), '/Users/zyf/miniforge3/envs/torch-mps/lib/python3.9/site-packages/torch/lib/../../../../libtorch_cpu.dylib' (no such file), '/Users/zyf/miniforge3/envs/torch-mps/lib/python3.9/site-packages/torch/lib/libtorch_cpu.dylib' (no such file), '/Users/zyf/miniforge3/envs/torch-mps/lib/python3.9/site-packages/torch/../../../libtorch_cpu.dylib' (no such file), '/Users/zyf/miniforge3/envs/torch-mps/lib/python3.9/site-packages/torch/lib/libtorch_cpu.dylib' (no such file), '/Users/zyf/miniforge3/envs/torch-mps/lib/python3.9/site-packages/torch/../../../libtorch_cpu.dylib' (no such file), '/Users/zyf/miniforge3/envs/torch-mps/bin/../lib/libtorch_cpu.dylib' (no such file), '/Users/zyf/miniforge3/envs/torch-mps/bin/../lib/libtorch_cpu.dylib' (no such file), '/usr/local/lib/libtorch_cpu.dylib' (no such file), '/usr/lib/libtorch_cpu.dylib' (no such file, not in dyld cache)"
     ]
    }
   ],
   "source": [
    "# 验证Metal支持\n",
    "import torch\n",
    "print(torch.backends.mps.is_available())  # 应返回True\n",
    "print(torch.device('mps'))  # 设备类型显示应为mps\n",
    "# MPS加速支持\n",
    "device = torch.device(\"mps\" if torch.backends.mps.is_available() else \"cpu\")\n",
    "\n",
    "# 数据迁移到MPS设备\n",
    "tensor_mps = torch.randn(3,3).to(device)  \n",
    "# model = MyModel().to(device)"
   ]
  },
  {
   "cell_type": "markdown",
   "metadata": {},
   "source": [
    "Tensor manipulation is the core concept of PyTorch. It is used to perform mathematical operations on multi-dimensional arrays. It is a powerful tool for building neural networks and performing machine learning tasks."
   ]
  },
  {
   "cell_type": "code",
   "execution_count": 32,
   "metadata": {},
   "outputs": [
    {
     "name": "stdout",
     "output_type": "stream",
     "text": [
      "Shape of tensor: torch.Size([3, 4])\n",
      "Data type of tensor: torch.float32\n",
      "Shape of tensor: torch.Size([3, 4])\n",
      "Data type of tensor: torch.float32\n",
      "Shape of tensor: torch.Size([3, 4])\n",
      "Data type of tensor: torch.float32\n",
      "Device of tensor: cpu\n"
     ]
    }
   ],
   "source": [
    "# Create a tensor with random values and print its shape and data type.\n",
    "import torch\n",
    "\n",
    "# Create a tensor with random values\n",
    "tensor = torch.rand(3, 4)\n",
    "\n",
    "# Print the shape and data type of the tensor\n",
    "print(\"Shape of tensor:\", tensor.shape)\n",
    "print(\"Data type of tensor:\", tensor.dtype)\n",
    "\n",
    "# Create a tensor with random values and specify the data type\n",
    "tensor = torch.rand(3, 4, dtype=torch.float32)\n",
    "\n",
    "# Print the shape and data type of the tensor\n",
    "print(\"Shape of tensor:\", tensor.shape)\n",
    "print(\"Data type of tensor:\", tensor.dtype) \n",
    "\n",
    "# Create a tensor with random values and specify the device (CPU or GPU)\n",
    "if torch.cuda.is_available():\n",
    "    tensor = torch.rand(3, 4, device='cuda')\n",
    "else:\n",
    "    tensor = torch.rand(3, 4, device='cpu')\n",
    "\n",
    "# Print the shape and data type of the tensor    \n",
    "print(\"Shape of tensor:\", tensor.shape)\n",
    "print(\"Data type of tensor:\", tensor.dtype)\n",
    "print(\"Device of tensor:\", tensor.device)    "
   ]
  },
  {
   "cell_type": "code",
   "execution_count": 33,
   "metadata": {},
   "outputs": [
    {
     "name": "stdout",
     "output_type": "stream",
     "text": [
      "tensor([[0.4431, 0.2959, 0.0485, 0.0134],\n",
      "        [0.6858, 0.2255, 0.1786, 0.4610],\n",
      "        [0.3335, 0.3382, 0.5161, 0.3939]])\n",
      "tensor([[0., 0., 0.],\n",
      "        [0., 0., 0.]])\n",
      "tensor([[1., 1., 1.],\n",
      "        [1., 1., 1.]])\n",
      "tensor([[1, 2, 3],\n",
      "        [4, 5, 6]])\n",
      "tensor([[1, 2, 3],\n",
      "        [4, 5, 6]])\n",
      "tensor([[1, 2, 3],\n",
      "        [4, 5, 6]])\n"
     ]
    }
   ],
   "source": [
    "# build a tensor using torch.tensor() function\n",
    "import torch\n",
    "\n",
    "# create a tensor with random values\n",
    "x = torch.rand(3, 4)\n",
    "print(x)\n",
    "\n",
    "# create a tensor with zeros\n",
    "y = torch.zeros(2, 3)\n",
    "print(y)\n",
    "\n",
    "# create a tensor with ones\n",
    "z = torch.ones(2, 3)\n",
    "print(z)\n",
    "\n",
    "# create a tensor with specific values\n",
    "a = torch.tensor([[1, 2, 3], [4, 5, 6]])\n",
    "print(a)\n",
    "\n",
    "# create a tensor from numpy array\n",
    "import numpy as np\n",
    "\n",
    "b = torch.from_numpy(np.array([[1, 2, 3], [4, 5, 6]]))\n",
    "print(b)\n",
    "\n",
    "# create a tensor from a list\n",
    "c = torch.tensor([[1, 2, 3], [4, 5, 6]])\n",
    "print(c)"
   ]
  },
  {
   "cell_type": "code",
   "execution_count": 34,
   "metadata": {},
   "outputs": [
    {
     "name": "stdout",
     "output_type": "stream",
     "text": [
      "tensor([[19, 22],\n",
      "        [43, 50]])\n",
      "tensor([5, 7, 9])\n",
      "tensor([[ 6,  8],\n",
      "        [ 8, 10]])\n",
      "tensor([[5, 6],\n",
      "        [8, 9]])\n"
     ]
    }
   ],
   "source": [
    "# Basic calculations of tensors : matrix multiplication, element-wise operations, broadcasting, and slicing.\n",
    "\n",
    "import torch\n",
    "\n",
    "# Matrix multiplication\n",
    "a = torch.tensor([[1, 2], [3, 4]])\n",
    "b = torch.tensor([[5, 6], [7, 8]])\n",
    "c = torch.mm(a, b)\n",
    "print(c)\n",
    "\n",
    "# Element-wise operations\n",
    "a = torch.tensor([1, 2, 3])\n",
    "b = torch.tensor([4, 5, 6])\n",
    "c = a + b\n",
    "print(c)\n",
    "\n",
    "# Broadcasting\n",
    "a = torch.tensor([[1, 2], [3, 4]])\n",
    "b = torch.tensor([5, 6])\n",
    "c = a + b\n",
    "print(c)\n",
    "\n",
    "# Slicing\n",
    "a = torch.tensor([[1, 2, 3], [4, 5, 6], [7, 8, 9]])\n",
    "b = a[1:3, 1:3]\n",
    "print(b)"
   ]
  },
  {
   "cell_type": "code",
   "execution_count": 35,
   "metadata": {},
   "outputs": [
    {
     "name": "stdout",
     "output_type": "stream",
     "text": [
      "tensor([2., 4., 6., 8.])\n",
      "torch.Size([4])\n",
      "torch.float32\n",
      "False\n"
     ]
    }
   ],
   "source": [
    "# The properties of the auto grad\n",
    "import torch\n",
    "\n",
    "# Create a tensor and set requires_grad=True to track gradients\n",
    "x = torch.tensor([1.0, 2.0, 3.0, 4.0], requires_grad=True)\n",
    "\n",
    "# Define a function to compute the sum of squares of the tensor\n",
    "def sum_of_squares(x):\n",
    "    return (x ** 2).sum()\n",
    "\n",
    "# Compute the gradient of the sum of squares with respect to the input tensor\n",
    "y = sum_of_squares(x)\n",
    "y.backward()\n",
    "\n",
    "# Print the gradient of the sum of squares with respect to the input tensor\n",
    "print(x.grad)\n",
    "\n",
    "# Print other parameters of x.grad\n",
    "print(x.grad.shape)\n",
    "print(x.grad.dtype)\n",
    "print(x.grad.requires_grad)\n"
   ]
  },
  {
   "cell_type": "markdown",
   "metadata": {},
   "source": [
    "Small task: Implement a simple linear regression model using PyTorch"
   ]
  },
  {
   "cell_type": "code",
   "execution_count": null,
   "metadata": {},
   "outputs": [
    {
     "name": "stdout",
     "output_type": "stream",
     "text": [
      "Epoch [10/100], Loss: 201.0257\n",
      "Epoch [20/100], Loss: 65.9608\n",
      "Epoch [30/100], Loss: 31.6040\n",
      "Epoch [40/100], Loss: 22.7955\n",
      "Epoch [50/100], Loss: 20.4913\n",
      "Epoch [60/100], Loss: 19.8582\n",
      "Epoch [70/100], Loss: 19.6646\n",
      "Epoch [80/100], Loss: 19.5933\n",
      "Epoch [90/100], Loss: 19.5604\n",
      "Epoch [100/100], Loss: 19.5421\n"
     ]
    },
    {
     "data": {
      "image/png": "[encoded data removed]",
      "text/plain": [
       "<Figure size 640x480 with 1 Axes>"
      ]
     },
     "metadata": {},
     "output_type": "display_data"
    },
    {
     "name": "stdout",
     "output_type": "stream",
     "text": [
      "Trained Model: y = 3.00x + 2.00\n"
     ]
    }
   ],
   "source": [
    "import torch\n",
    "import torch.nn as nn\n",
    "import torch.optim as optim\n",
    "import matplotlib.pyplot as plt\n",
    "\n",
    "device = torch.device(\"mps\" if torch.backends.mps.is_available() else \"cpu\")\n",
    "\n",
    "# 1. 生成数据 (y = 3x + 2 + 噪声)，并将数据迁移到MPS设备\n",
    "torch.manual_seed(42)\n",
    "X = torch.randn(100, 1).to(device) * 10  # 100 个数据点\n",
    "Y = 3 * X + 2 + torch.randn(100, 1).to(device) * 5  # 加入一些噪声\n",
    "\n",
    "# 2. 定义线性回归模型\n",
    "class LinearRegressionModel(nn.Module):\n",
    "    def __init__(self):\n",
    "        super().__init__()\n",
    "        # 定义层，相当于准备积木块\n",
    "        self.linear = nn.Linear(1, 1)  # 1 个输入，1 个输出\n",
    "\n",
    "    def forward(self, x):\n",
    "        # 利用定义层前向传播，相当于用积木块搭建出结构\n",
    "        return self.linear(x)\n",
    "\n",
    "# 2.1 实例化模型并迁移到MPS设备\n",
    "model = LinearRegressionModel().to(device)\n",
    "\n",
    "# 3. 选择损失函数（MSE）和优化器（SGD）\n",
    "criterion = nn.MSELoss()\n",
    "optimizer = optim.SGD(model.parameters(), lr=0.01)\n",
    "\n",
    "# 4. 训练模型\n",
    "epochs = 100\n",
    "for epoch in range(epochs):\n",
    "    optimizer.zero_grad()  # 清空梯度\n",
    "    predictions = model(X)  # 前向传播\n",
    "    loss = criterion(predictions, Y)  # 计算损失\n",
    "    loss.backward()  # 反向传播\n",
    "    optimizer.step()  # 更新参数\n",
    "\n",
    "    if (epoch + 1) % 10 == 0:\n",
    "        print(f\"Epoch [{epoch+1}/{epochs}], Loss: {loss.item():.4f}\")\n",
    "\n",
    "# 5. 绘制结果\n",
    "with torch.no_grad():\n",
    "    predicted = model(X)\n",
    "\n",
    "    # 把数据迁移到CPU上进行绘图\n",
    "    X, Y, predicted = X.cpu(), Y.cpu(), predicted.cpu()\n",
    "    plt.scatter(X.numpy(), Y.numpy(), label=\"Actual Data\")\n",
    "    plt.plot(X.numpy(), predicted.numpy(), color='red', label=\"Fitted Line\")\n",
    "    plt.legend()\n",
    "    plt.show()\n",
    "\n",
    "# 6. 输出训练后的模型参数\n",
    "w, b = model.linear.weight.item(), model.linear.bias.item()\n",
    "print(f\"Trained Model: y = {w:.2f}x + {b:.2f}\")\n",
    "\n"
   ]
  },
  {
   "cell_type": "markdown",
   "metadata": {},
   "source": [
    "在一个通用的深度学习框架中，有以下几个核心概念：\n",
    "\n",
    " - 层：包括线性层，卷积层，循环层，激活层等。层是神经网络的基本组件，是对输入数据进行操作并产生输出的函数。 \n",
    "    \n",
    "    - 线性层：nn.Linear()是最常用的层之一，它可以将输入数据进行线性变换，输出维度可以自定义。\n",
    "    \n",
    "    - 卷积层：nn.Conv2d()和nn.Conv3d()，卷积层是对输入数据进行二维或三维的卷积操作，输出维度可以自定义。\n",
    "\n",
    "    - 循环层：nn.RNN()和nn.LSTM()，循环层是对输入数据进行循环操作，输出维度可以自定义。\n",
    "\n",
    "    - 激活层：nn.ReLU()、nn.Sigmoid()、nn.Tanh()等，激活层是对输入数据进行非线性变换，输出维度不变。\n",
    "\n",
    " - 模型：模型是神经网络的主体，它由多个层组成，并通过连接层、激活层等操作进行信息的传递。\n",
    "\n",
    " - 损失函数：损失函数是衡量模型预测结果与真实结果之间的差距的函数。包括均方误差、交叉熵等。\n",
    "\n",
    " - 优化器：优化器是用于更新模型参数的算法。包括随机梯度下降、动量法、Adam等。\n",
    "\n",
    " - 数据集：数据集是用于训练模型的数据集合。包括训练集、验证集、测试集等。\n",
    "\n",
    " - DataLoader：DataLoader是用于加载数据集的工具。它可以将数据集分批次、打乱、并行化处理，以提高训练效率。"
   ]
  }
 ],
 "metadata": {
  "kernelspec": {
   "display_name": "torch-mps",
   "language": "python",
   "name": "python3"
  },
  "language_info": {
   "codemirror_mode": {
    "name": "ipython",
    "version": 3
   },
   "file_extension": ".py",
   "mimetype": "text/x-python",
   "name": "python",
   "nbconvert_exporter": "python",
   "pygments_lexer": "ipython3",
   "version": "3.9.21"
  }
 },
 "nbformat": 4,
 "nbformat_minor": 2
}
