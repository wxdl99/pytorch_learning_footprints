{
 "cells": [
  {
   "cell_type": "markdown",
   "metadata": {},
   "source": [
    "This is the first course in the pytorch learning footprints series. It will last for 4 weeks and will cover the core concepts of pytorch."
   ]
  },
  {
   "cell_type": "code",
   "execution_count": 1,
   "metadata": {},
   "outputs": [
    {
     "name": "stdout",
     "output_type": "stream",
     "text": [
      "True\n",
      "mps\n"
     ]
    }
   ],
   "source": [
    "# 验证Metal支持\n",
    "import torch\n",
    "print(torch.backends.mps.is_available())  # 应返回True\n",
    "print(torch.device('mps'))  # 设备类型显示应为mps"
   ]
  },
  {
   "cell_type": "markdown",
   "metadata": {},
   "source": [
    "Tensor manipulation is the core concept of PyTorch. It is used to perform mathematical operations on multi-dimensional arrays. It is a powerful tool for building neural networks and performing machine learning tasks."
   ]
  },
  {
   "cell_type": "code",
   "execution_count": 1,
   "metadata": {},
   "outputs": [
    {
     "name": "stdout",
     "output_type": "stream",
     "text": [
      "Shape of tensor: torch.Size([3, 4])\n",
      "Data type of tensor: torch.float32\n",
      "Shape of tensor: torch.Size([3, 4])\n",
      "Data type of tensor: torch.float32\n",
      "Shape of tensor: torch.Size([3, 4])\n",
      "Data type of tensor: torch.float32\n",
      "Device of tensor: cpu\n"
     ]
    }
   ],
   "source": [
    "# Create a tensor with random values and print its shape and data type.\n",
    "import torch\n",
    "\n",
    "# Create a tensor with random values\n",
    "tensor = torch.rand(3, 4)\n",
    "\n",
    "# Print the shape and data type of the tensor\n",
    "print(\"Shape of tensor:\", tensor.shape)\n",
    "print(\"Data type of tensor:\", tensor.dtype)\n",
    "\n",
    "# Create a tensor with random values and specify the data type\n",
    "tensor = torch.rand(3, 4, dtype=torch.float32)\n",
    "\n",
    "# Print the shape and data type of the tensor\n",
    "print(\"Shape of tensor:\", tensor.shape)\n",
    "print(\"Data type of tensor:\", tensor.dtype) \n",
    "\n",
    "# Create a tensor with random values and specify the device (CPU or GPU)\n",
    "if torch.cuda.is_available():\n",
    "    tensor = torch.rand(3, 4, device='cuda')\n",
    "else:\n",
    "    tensor = torch.rand(3, 4, device='cpu')\n",
    "\n",
    "# Print the shape and data type of the tensor    \n",
    "print(\"Shape of tensor:\", tensor.shape)\n",
    "print(\"Data type of tensor:\", tensor.dtype)\n",
    "print(\"Device of tensor:\", tensor.device)    "
   ]
  }
 ],
 "metadata": {
  "kernelspec": {
   "display_name": "torch-mps",
   "language": "python",
   "name": "python3"
  },
  "language_info": {
   "codemirror_mode": {
    "name": "ipython",
    "version": 3
   },
   "file_extension": ".py",
   "mimetype": "text/x-python",
   "name": "python",
   "nbconvert_exporter": "python",
   "pygments_lexer": "ipython3",
   "version": "3.9.21"
  }
 },
 "nbformat": 4,
 "nbformat_minor": 2
}
